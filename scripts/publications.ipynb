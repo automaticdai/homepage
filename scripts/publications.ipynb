{
 "cells": [
  {
   "cell_type": "code",
   "execution_count": null,
   "id": "abfbff51-b108-4182-8961-f4648b7bcfd6",
   "metadata": {},
   "outputs": [],
   "source": [
    "import pandas\n",
    "import sys"
   ]
  },
  {
   "cell_type": "code",
   "execution_count": null,
   "id": "d6228c1b-92b2-4b85-aba7-fc43347df912",
   "metadata": {},
   "outputs": [],
   "source": [
    "frontmatter = \"\"\"---\n",
    "title: Publications\n",
    "authorbox: false\n",
    "sidebar: false\n",
    "menu: main\n",
    "weight: 3\n",
    "toc: false\n",
    "---\"\"\"\n",
    "\n",
    "description = \"\"\"\n",
    "---\n",
    "\n",
    "For a full list of publications, please visit my [Google Scholar](https://scholar.google.co.uk/citations?hl=en&user=G7dzNUkAAAAJ&view_op=list_works&sortby=pubdate) | [dblp](https://dblp.org/pid/199/5323.html).\n",
    "\n",
    "---\n",
    "\"\"\"\n",
    "\n",
    "endline = \"\"\"\n",
    "---\n",
    "\"\"\""
   ]
  },
  {
   "cell_type": "code",
   "execution_count": null,
   "id": "fe07e81d-0335-46de-ad51-921c8c91daa7",
   "metadata": {},
   "outputs": [],
   "source": [
    "with open('test.md', 'w') as sys.stdout:\n",
    "    print(frontmatter)\n",
    "    print(description)\n",
    "\n",
    "    df = pandas.read_csv(\"citations.csv\")\n",
    "    df.sort_values('Year')\n",
    "    df = df.loc[::-1]\n",
    "\n",
    "    for index, row in df.iterrows():\n",
    "        print(\"- {{{{<tag-{category}>}}}} <br>\".format(category=row[\"Category\"]))\n",
    "        print(\"\\t\", \"[{title}]({url}) <br>\".format(title=row[\"Title\"], url=row[\"URL\"])) \n",
    "        print(\"\\t\", row[\"Authors\"], \"<br>\")\n",
    "        print(\"\\t\", \"{publication}. {year}. <br>\".format(publication=row[\"Publication\"], year=row[\"Year\"]))\n",
    "        print()\n",
    "    \n",
    "    print(endline)"
   ]
  }
 ],
 "metadata": {
  "kernelspec": {
   "display_name": "Python 3 (ipykernel)",
   "language": "python",
   "name": "python3"
  },
  "language_info": {
   "codemirror_mode": {
    "name": "ipython",
    "version": 3
   },
   "file_extension": ".py",
   "mimetype": "text/x-python",
   "name": "python",
   "nbconvert_exporter": "python",
   "pygments_lexer": "ipython3",
   "version": "3.11.5"
  }
 },
 "nbformat": 4,
 "nbformat_minor": 5
}
